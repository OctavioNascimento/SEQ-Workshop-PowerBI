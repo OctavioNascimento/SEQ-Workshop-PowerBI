{
 "cells": [
  {
   "cell_type": "code",
   "execution_count": 2,
   "metadata": {},
   "outputs": [
    {
     "name": "stdout",
     "output_type": "stream",
     "text": [
      "Processo concluído. O arquivo foi salvo como 'seu_arquivo_modificado.csv'.\n"
     ]
    }
   ],
   "source": [
    "import pandas as pd\n",
    "import random\n",
    "\n",
    "# Carregar dados\n",
    "csv_file = 'flights.csv'\n",
    "df = pd.read_csv(csv_file, nrows=1000000)\n",
    "\n",
    "# Função para substituir '2015' por um valor aleatório entre 1960 e 2015\n",
    "def replace_year(year):\n",
    "    if year == 2015:\n",
    "        return random.randint(1960, 2015)\n",
    "    return year\n",
    "\n",
    "# Aplicar a função na coluna 'YEAR'\n",
    "df['YEAR'] = df['YEAR'].apply(replace_year)\n",
    "\n",
    "# Salvar o arquivo CSV modificado\n",
    "df.to_csv('delayed_flights.csv', index=False)\n",
    "\n",
    "print(\"Processo concluído.\")\n"
   ]
  }
 ],
 "metadata": {
  "kernelspec": {
   "display_name": "base",
   "language": "python",
   "name": "python3"
  },
  "language_info": {
   "codemirror_mode": {
    "name": "ipython",
    "version": 3
   },
   "file_extension": ".py",
   "mimetype": "text/x-python",
   "name": "python",
   "nbconvert_exporter": "python",
   "pygments_lexer": "ipython3",
   "version": "3.9.13"
  }
 },
 "nbformat": 4,
 "nbformat_minor": 2
}
